{
 "cells": [
  {
   "cell_type": "code",
   "execution_count": 3,
   "id": "cc176cf1-19c8-4474-a52c-fc54bed637ce",
   "metadata": {},
   "outputs": [],
   "source": [
    "from chatzhipuai import *\n",
    "ZHIPUAI_API_KEY = \"10e300089cd589a9bf2c782f7d67677a.vPUDkL09x5KTZpND\"\n",
    "llm = ChatZhipuAI(\n",
    "    temperature=0.1,\n",
    "    api_key=ZHIPUAI_API_KEY,\n",
    "    model_name=\"glm-4\",\n",
    ")"
   ]
  },
  {
   "cell_type": "code",
   "execution_count": 5,
   "id": "ce440a55-fc1b-43bf-b927-b2f438770717",
   "metadata": {},
   "outputs": [
    {
     "name": "stdout",
     "output_type": "stream",
     "text": [
      "[Document(page_content='\\ufeff订单ID: 123456\\n订单金额: 100.18\\n收货人姓名: 李四同\\n收货人电话: 1234567890\\n收货地址: 北京市海淀区\\n图片: https://qnssl.niaogebiji.com/152701334564123796dd0f43.47234870.png', metadata={'source': 'ordersample.csv', 'row': 0}),\n",
      " Document(page_content='\\ufeff订单ID: 111222\\n订单金额: 367.58\\n收货人姓名: 王五一\\n收货人电话: 1314567890\\n收货地址: 北京市朝阳区\\n图片: ', metadata={'source': 'ordersample.csv', 'row': 1}),\n",
      " Document(page_content='\\ufeff订单ID: 333444\\n订单金额: 1234.5\\n收货人姓名: 张三丰\\n收货人电话: 1331112390\\n收货地址: 北京市西城区\\n图片: ', metadata={'source': 'ordersample.csv', 'row': 2}),\n",
      " Document(page_content='\\ufeff订单ID: 123458\\n订单金额: 120.18\\n收货人姓名: 李四同\\n收货人电话: 1234567890\\n收货地址: 北京市海淀区\\n图片: https://qnssl.niaogebiji.com/152701334564123796dd0f43.47234870.png', metadata={'source': 'ordersample.csv', 'row': 3}),\n",
      " Document(page_content='\\ufeff订单ID: 119822\\n订单金额: 267.58\\n收货人姓名: 王五一\\n收货人电话: 1314567890\\n收货地址: 北京市朝阳区\\n图片: ', metadata={'source': 'ordersample.csv', 'row': 4}),\n",
      " Document(page_content='\\ufeff订单ID: 329444\\n订单金额: 234.5\\n收货人姓名: 张三丰\\n收货人电话: 1331112390\\n收货地址: 北京市西城区\\n图片: ', metadata={'source': 'ordersample.csv', 'row': 5})]\n"
     ]
    },
    {
     "data": {
      "text/plain": [
       "'收货地址是朝阳区的订单有：\\n\\n1. 订单ID: 119822，订单金额: 267.58，收货人姓名: 王五一，收货人电话: 1314567890，收货地址: 北京市朝阳区。\\n2. 订单ID: 111222，订单金额: 367.58，收货人姓名: 王五一，收货人电话: 1314567890，收货地址: 北京市朝阳区。\\n\\n以上两个订单的收货地址均为北京市朝阳区。'"
      ]
     },
     "execution_count": 5,
     "metadata": {},
     "output_type": "execute_result"
    }
   ],
   "source": [
    "from langchain_community.document_loaders.csv_loader import CSVLoader\n",
    "\n",
    "loader = CSVLoader(file_path='ordersample.csv')\n",
    "data = loader.load()\n",
    "from pprint import pprint\n",
    "pprint(data)\n",
    "\n",
    "from langchain.text_splitter import RecursiveCharacterTextSplitter\n",
    "\n",
    "text_splitter = RecursiveCharacterTextSplitter(\n",
    "    chunk_size=1000, chunk_overlap=200, add_start_index=True\n",
    ")\n",
    "all_splits = text_splitter.split_documents(data)\n",
    "\n",
    "\n",
    "from langchain_community.embeddings import HuggingFaceBgeEmbeddings\n",
    "\n",
    "model_name = \"BAAI/bge-large-zh-v1.5\"\n",
    "model_kwargs = {\"device\": \"cpu\"}\n",
    "encode_kwargs = {\"normalize_embeddings\": True}\n",
    "bgeEmbeddings = HuggingFaceBgeEmbeddings(\n",
    "    model_name=model_name, model_kwargs=model_kwargs, encode_kwargs=encode_kwargs\n",
    ")\n",
    "from langchain_community.vectorstores import FAISS\n",
    "vector = FAISS.from_documents(all_splits, bgeEmbeddings)\n",
    "\n",
    "retriever = vector.as_retriever(search_type=\"similarity\", search_kwargs={\"k\": 3})\n",
    "retriever.invoke(\"收货人姓名是张三丰的，有几个订单？金额分别是多少，总共是多少？\")\n",
    "\n",
    "from langchain_core.prompts import ChatPromptTemplate\n",
    "prompt = ChatPromptTemplate.from_template(\"\"\"仅根据所提供的上下文回答以下问题:\n",
    "\n",
    "<context>\n",
    "{context}\n",
    "</context>\n",
    "\n",
    "问题: {question}\"\"\")\n",
    "\n",
    "from langchain_core.output_parsers import StrOutputParser\n",
    "from langchain_core.runnables import RunnablePassthrough\n",
    "retriever_chain = (\n",
    "    {\"context\": retriever , \"question\": RunnablePassthrough()}\n",
    "    | prompt\n",
    "    | llm\n",
    "    | StrOutputParser()\n",
    ")\n",
    "\n",
    "retriever_chain.invoke(\"订单ID是123456的收货人是谁，电话是多少?\")\n",
    "\n",
    "\n",
    "retriever_chain.invoke(\"收货人张三丰有几个订单？金额分别是多少，总共是多少？\")\n",
    "\n",
    "retriever_chain.invoke(\"收货地址是朝阳区的有哪些订单？\")"
   ]
  },
  {
   "cell_type": "code",
   "execution_count": null,
   "id": "03a615ee-e92d-49f6-98db-598a0abc18ec",
   "metadata": {},
   "outputs": [],
   "source": []
  },
  {
   "cell_type": "code",
   "execution_count": null,
   "id": "0b183763-70c5-43e4-ba62-0365582088f1",
   "metadata": {},
   "outputs": [],
   "source": []
  }
 ],
 "metadata": {
  "kernelspec": {
   "display_name": "Python 3 (ipykernel)",
   "language": "python",
   "name": "python3"
  },
  "language_info": {
   "codemirror_mode": {
    "name": "ipython",
    "version": 3
   },
   "file_extension": ".py",
   "mimetype": "text/x-python",
   "name": "python",
   "nbconvert_exporter": "python",
   "pygments_lexer": "ipython3",
   "version": "3.9.19"
  }
 },
 "nbformat": 4,
 "nbformat_minor": 5
}
